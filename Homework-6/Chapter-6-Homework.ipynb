{
 "cells": [
  {
   "cell_type": "code",
   "execution_count": 1,
   "id": "798a0d93-d454-4095-89d2-a45dd017e224",
   "metadata": {},
   "outputs": [],
   "source": [
    "import pandas as pd\n",
    "import numpy as np\n",
    "import seaborn as sns\n",
    "from matplotlib import pyplot as plt\n",
    "%matplotlib inline\n",
    "from sklearn.model_selection import train_test_split\n",
    "from sklearn.metrics import mutual_info_score\n",
    "from sklearn.feature_extraction import DictVectorizer\n",
    "from sklearn.tree import DecisionTreeRegressor\n",
    "from sklearn.metrics import roc_auc_score\n",
    "from sklearn.ensemble import RandomForestRegressor\n",
    "import xgboost as xgb"
   ]
  },
  {
   "cell_type": "code",
   "execution_count": 2,
   "id": "89d51f35-f4b4-4a04-ac50-fbdf489df492",
   "metadata": {},
   "outputs": [],
   "source": [
    "df = pd.read_csv('https://raw.githubusercontent.com/alexeygrigorev/datasets/master/car_fuel_efficiency.csv')"
   ]
  },
  {
   "cell_type": "code",
   "execution_count": 3,
   "id": "9a4b531a-6ec8-4fc2-84ae-1392e4db2195",
   "metadata": {},
   "outputs": [
    {
     "data": {
      "text/html": [
       "<div>\n",
       "<style scoped>\n",
       "    .dataframe tbody tr th:only-of-type {\n",
       "        vertical-align: middle;\n",
       "    }\n",
       "\n",
       "    .dataframe tbody tr th {\n",
       "        vertical-align: top;\n",
       "    }\n",
       "\n",
       "    .dataframe thead th {\n",
       "        text-align: right;\n",
       "    }\n",
       "</style>\n",
       "<table border=\"1\" class=\"dataframe\">\n",
       "  <thead>\n",
       "    <tr style=\"text-align: right;\">\n",
       "      <th></th>\n",
       "      <th>engine_displacement</th>\n",
       "      <th>num_cylinders</th>\n",
       "      <th>horsepower</th>\n",
       "      <th>vehicle_weight</th>\n",
       "      <th>acceleration</th>\n",
       "      <th>model_year</th>\n",
       "      <th>origin</th>\n",
       "      <th>fuel_type</th>\n",
       "      <th>drivetrain</th>\n",
       "      <th>num_doors</th>\n",
       "      <th>fuel_efficiency_mpg</th>\n",
       "    </tr>\n",
       "  </thead>\n",
       "  <tbody>\n",
       "    <tr>\n",
       "      <th>0</th>\n",
       "      <td>170</td>\n",
       "      <td>3.0</td>\n",
       "      <td>159.0</td>\n",
       "      <td>3413.433759</td>\n",
       "      <td>17.7</td>\n",
       "      <td>2003</td>\n",
       "      <td>Europe</td>\n",
       "      <td>Gasoline</td>\n",
       "      <td>All-wheel drive</td>\n",
       "      <td>0.0</td>\n",
       "      <td>13.231729</td>\n",
       "    </tr>\n",
       "    <tr>\n",
       "      <th>1</th>\n",
       "      <td>130</td>\n",
       "      <td>5.0</td>\n",
       "      <td>97.0</td>\n",
       "      <td>3149.664934</td>\n",
       "      <td>17.8</td>\n",
       "      <td>2007</td>\n",
       "      <td>USA</td>\n",
       "      <td>Gasoline</td>\n",
       "      <td>Front-wheel drive</td>\n",
       "      <td>0.0</td>\n",
       "      <td>13.688217</td>\n",
       "    </tr>\n",
       "    <tr>\n",
       "      <th>2</th>\n",
       "      <td>170</td>\n",
       "      <td>NaN</td>\n",
       "      <td>78.0</td>\n",
       "      <td>3079.038997</td>\n",
       "      <td>15.1</td>\n",
       "      <td>2018</td>\n",
       "      <td>Europe</td>\n",
       "      <td>Gasoline</td>\n",
       "      <td>Front-wheel drive</td>\n",
       "      <td>0.0</td>\n",
       "      <td>14.246341</td>\n",
       "    </tr>\n",
       "    <tr>\n",
       "      <th>3</th>\n",
       "      <td>220</td>\n",
       "      <td>4.0</td>\n",
       "      <td>NaN</td>\n",
       "      <td>2542.392402</td>\n",
       "      <td>20.2</td>\n",
       "      <td>2009</td>\n",
       "      <td>USA</td>\n",
       "      <td>Diesel</td>\n",
       "      <td>All-wheel drive</td>\n",
       "      <td>2.0</td>\n",
       "      <td>16.912736</td>\n",
       "    </tr>\n",
       "    <tr>\n",
       "      <th>4</th>\n",
       "      <td>210</td>\n",
       "      <td>1.0</td>\n",
       "      <td>140.0</td>\n",
       "      <td>3460.870990</td>\n",
       "      <td>14.4</td>\n",
       "      <td>2009</td>\n",
       "      <td>Europe</td>\n",
       "      <td>Gasoline</td>\n",
       "      <td>All-wheel drive</td>\n",
       "      <td>2.0</td>\n",
       "      <td>12.488369</td>\n",
       "    </tr>\n",
       "  </tbody>\n",
       "</table>\n",
       "</div>"
      ],
      "text/plain": [
       "   engine_displacement  num_cylinders  horsepower  vehicle_weight  \\\n",
       "0                  170            3.0       159.0     3413.433759   \n",
       "1                  130            5.0        97.0     3149.664934   \n",
       "2                  170            NaN        78.0     3079.038997   \n",
       "3                  220            4.0         NaN     2542.392402   \n",
       "4                  210            1.0       140.0     3460.870990   \n",
       "\n",
       "   acceleration  model_year  origin fuel_type         drivetrain  num_doors  \\\n",
       "0          17.7        2003  Europe  Gasoline    All-wheel drive        0.0   \n",
       "1          17.8        2007     USA  Gasoline  Front-wheel drive        0.0   \n",
       "2          15.1        2018  Europe  Gasoline  Front-wheel drive        0.0   \n",
       "3          20.2        2009     USA    Diesel    All-wheel drive        2.0   \n",
       "4          14.4        2009  Europe  Gasoline    All-wheel drive        2.0   \n",
       "\n",
       "   fuel_efficiency_mpg  \n",
       "0            13.231729  \n",
       "1            13.688217  \n",
       "2            14.246341  \n",
       "3            16.912736  \n",
       "4            12.488369  "
      ]
     },
     "execution_count": 3,
     "metadata": {},
     "output_type": "execute_result"
    }
   ],
   "source": [
    "df.head()"
   ]
  },
  {
   "cell_type": "markdown",
   "id": "7e42de5d-1174-4d6a-a8ea-85ae92c4af07",
   "metadata": {},
   "source": [
    "## Preparing the dataset"
   ]
  },
  {
   "cell_type": "code",
   "execution_count": 4,
   "id": "d5dfae27-c328-4f14-9967-676783286447",
   "metadata": {},
   "outputs": [],
   "source": [
    "# Fill missing values with zeros.\n",
    "df = df.fillna(0)"
   ]
  },
  {
   "cell_type": "code",
   "execution_count": 5,
   "id": "c5579a75-c4cf-4fac-ad07-69ba313e75c7",
   "metadata": {},
   "outputs": [
    {
     "data": {
      "text/html": [
       "<div>\n",
       "<style scoped>\n",
       "    .dataframe tbody tr th:only-of-type {\n",
       "        vertical-align: middle;\n",
       "    }\n",
       "\n",
       "    .dataframe tbody tr th {\n",
       "        vertical-align: top;\n",
       "    }\n",
       "\n",
       "    .dataframe thead th {\n",
       "        text-align: right;\n",
       "    }\n",
       "</style>\n",
       "<table border=\"1\" class=\"dataframe\">\n",
       "  <thead>\n",
       "    <tr style=\"text-align: right;\">\n",
       "      <th></th>\n",
       "      <th>engine_displacement</th>\n",
       "      <th>num_cylinders</th>\n",
       "      <th>horsepower</th>\n",
       "      <th>vehicle_weight</th>\n",
       "      <th>acceleration</th>\n",
       "      <th>model_year</th>\n",
       "      <th>num_doors</th>\n",
       "      <th>fuel_efficiency_mpg</th>\n",
       "    </tr>\n",
       "  </thead>\n",
       "  <tbody>\n",
       "    <tr>\n",
       "      <th>count</th>\n",
       "      <td>9704.000000</td>\n",
       "      <td>9704.000000</td>\n",
       "      <td>9704.000000</td>\n",
       "      <td>9704.000000</td>\n",
       "      <td>9704.000000</td>\n",
       "      <td>9704.000000</td>\n",
       "      <td>9704.000000</td>\n",
       "      <td>9704.000000</td>\n",
       "    </tr>\n",
       "    <tr>\n",
       "      <th>mean</th>\n",
       "      <td>199.708368</td>\n",
       "      <td>3.765664</td>\n",
       "      <td>138.738355</td>\n",
       "      <td>3001.280993</td>\n",
       "      <td>13.582275</td>\n",
       "      <td>2011.484027</td>\n",
       "      <td>-0.006080</td>\n",
       "      <td>14.985243</td>\n",
       "    </tr>\n",
       "    <tr>\n",
       "      <th>std</th>\n",
       "      <td>49.455319</td>\n",
       "      <td>2.130715</td>\n",
       "      <td>48.401189</td>\n",
       "      <td>497.894860</td>\n",
       "      <td>5.025294</td>\n",
       "      <td>6.659808</td>\n",
       "      <td>1.020689</td>\n",
       "      <td>2.556468</td>\n",
       "    </tr>\n",
       "    <tr>\n",
       "      <th>min</th>\n",
       "      <td>10.000000</td>\n",
       "      <td>0.000000</td>\n",
       "      <td>0.000000</td>\n",
       "      <td>952.681761</td>\n",
       "      <td>0.000000</td>\n",
       "      <td>2000.000000</td>\n",
       "      <td>-4.000000</td>\n",
       "      <td>6.200971</td>\n",
       "    </tr>\n",
       "    <tr>\n",
       "      <th>25%</th>\n",
       "      <td>170.000000</td>\n",
       "      <td>2.000000</td>\n",
       "      <td>124.000000</td>\n",
       "      <td>2666.248985</td>\n",
       "      <td>12.600000</td>\n",
       "      <td>2006.000000</td>\n",
       "      <td>-1.000000</td>\n",
       "      <td>13.267459</td>\n",
       "    </tr>\n",
       "    <tr>\n",
       "      <th>50%</th>\n",
       "      <td>200.000000</td>\n",
       "      <td>4.000000</td>\n",
       "      <td>146.000000</td>\n",
       "      <td>2993.226296</td>\n",
       "      <td>14.700000</td>\n",
       "      <td>2012.000000</td>\n",
       "      <td>0.000000</td>\n",
       "      <td>15.006037</td>\n",
       "    </tr>\n",
       "    <tr>\n",
       "      <th>75%</th>\n",
       "      <td>230.000000</td>\n",
       "      <td>5.000000</td>\n",
       "      <td>168.000000</td>\n",
       "      <td>3334.957039</td>\n",
       "      <td>16.500000</td>\n",
       "      <td>2017.000000</td>\n",
       "      <td>1.000000</td>\n",
       "      <td>16.707965</td>\n",
       "    </tr>\n",
       "    <tr>\n",
       "      <th>max</th>\n",
       "      <td>380.000000</td>\n",
       "      <td>13.000000</td>\n",
       "      <td>271.000000</td>\n",
       "      <td>4739.077089</td>\n",
       "      <td>24.300000</td>\n",
       "      <td>2023.000000</td>\n",
       "      <td>4.000000</td>\n",
       "      <td>25.967222</td>\n",
       "    </tr>\n",
       "  </tbody>\n",
       "</table>\n",
       "</div>"
      ],
      "text/plain": [
       "       engine_displacement  num_cylinders   horsepower  vehicle_weight  \\\n",
       "count          9704.000000    9704.000000  9704.000000     9704.000000   \n",
       "mean            199.708368       3.765664   138.738355     3001.280993   \n",
       "std              49.455319       2.130715    48.401189      497.894860   \n",
       "min              10.000000       0.000000     0.000000      952.681761   \n",
       "25%             170.000000       2.000000   124.000000     2666.248985   \n",
       "50%             200.000000       4.000000   146.000000     2993.226296   \n",
       "75%             230.000000       5.000000   168.000000     3334.957039   \n",
       "max             380.000000      13.000000   271.000000     4739.077089   \n",
       "\n",
       "       acceleration   model_year    num_doors  fuel_efficiency_mpg  \n",
       "count   9704.000000  9704.000000  9704.000000          9704.000000  \n",
       "mean      13.582275  2011.484027    -0.006080            14.985243  \n",
       "std        5.025294     6.659808     1.020689             2.556468  \n",
       "min        0.000000  2000.000000    -4.000000             6.200971  \n",
       "25%       12.600000  2006.000000    -1.000000            13.267459  \n",
       "50%       14.700000  2012.000000     0.000000            15.006037  \n",
       "75%       16.500000  2017.000000     1.000000            16.707965  \n",
       "max       24.300000  2023.000000     4.000000            25.967222  "
      ]
     },
     "execution_count": 5,
     "metadata": {},
     "output_type": "execute_result"
    }
   ],
   "source": [
    "df.describe()"
   ]
  },
  {
   "cell_type": "code",
   "execution_count": 6,
   "id": "ea8cf952-3a6e-4d80-9f2d-682ad4042ac6",
   "metadata": {},
   "outputs": [],
   "source": [
    "# train/validation/test split with 60%/20%/20% distribution\n",
    "df_train_full, df_test = train_test_split(df, test_size=0.2, random_state=1)\n",
    "df_train, df_val = train_test_split(df_train_full, test_size=0.25, random_state=1)"
   ]
  },
  {
   "cell_type": "code",
   "execution_count": 7,
   "id": "c873da9e-068a-4a69-8502-cf508b8c7f8f",
   "metadata": {},
   "outputs": [],
   "source": [
    "y_train = (df_train['fuel_efficiency_mpg']).values\n",
    "y_val = (df_val['fuel_efficiency_mpg']).values\n",
    "y_test = (df_test['fuel_efficiency_mpg']).values\n",
    "\n",
    "del df_train['fuel_efficiency_mpg']\n",
    "del df_val['fuel_efficiency_mpg']\n",
    "del df_test['fuel_efficiency_mpg']"
   ]
  },
  {
   "cell_type": "code",
   "execution_count": 8,
   "id": "b4f2ba15-5f14-4bb1-83fb-cef95cc44ef5",
   "metadata": {},
   "outputs": [],
   "source": [
    "# Use DictVectorizer(sparse=True) to turn the dataframes into matrices\n",
    "# DictVectorizer requires a list of dictionaries - convert:\n",
    "dict_train = df_train.to_dict(orient='records')\n",
    "dict_val = df_val.to_dict(orient='records')\n",
    "\n",
    "# Instantiate DictVectorizer and fit to training dataset\n",
    "dv = DictVectorizer(sparse=False)\n",
    "\n",
    "X_train = dv.fit_transform(dict_train)\n",
    "X_val = dv.transform(dict_val)"
   ]
  },
  {
   "cell_type": "markdown",
   "id": "e3370b6c-9864-4b1b-8666-707e722e44d8",
   "metadata": {},
   "source": [
    "## Question 1"
   ]
  },
  {
   "cell_type": "code",
   "execution_count": 9,
   "id": "91f98701-51c3-4e31-a16b-cb1e48b8da32",
   "metadata": {},
   "outputs": [],
   "source": [
    "# Fit the Decision Tree regressor to the data\n",
    "dt = DecisionTreeRegressor(max_depth=1)\n",
    "dt.fit(X_train, y_train)\n",
    "y_pred = dt.predict(X_train)"
   ]
  },
  {
   "cell_type": "code",
   "execution_count": 10,
   "id": "2416489d-24a1-4758-91a9-2b1ff3344b77",
   "metadata": {},
   "outputs": [
    {
     "name": "stdout",
     "output_type": "stream",
     "text": [
      "Feature for first split: vehicle_weight\n"
     ]
    }
   ],
   "source": [
    "feature_index = dt.tree_.feature[0]  # index of feature used for splitting node 0 (root node), i.e the first split \n",
    "first_split_feature = dv.feature_names_[feature_index]\n",
    "print(f\"Feature for first split: {first_split_feature}\")"
   ]
  },
  {
   "cell_type": "markdown",
   "id": "ca17c796-3646-46ae-adfe-01aa247959ac",
   "metadata": {},
   "source": [
    "## Question 2"
   ]
  },
  {
   "cell_type": "code",
   "execution_count": 11,
   "id": "1c0698fb-f96b-4417-8453-fbecbaa8f76d",
   "metadata": {},
   "outputs": [],
   "source": [
    "# Train a random forest regressor and calculate the RMSE of this model on the validation data\n",
    "rf = RandomForestRegressor(n_estimators=10, random_state=1)\n",
    "rf.fit(X_train, y_train)\n",
    "y_pred = rf.predict(X_val)"
   ]
  },
  {
   "cell_type": "code",
   "execution_count": 12,
   "id": "ff4cd627-5fb0-40e7-b6f6-434027a4e182",
   "metadata": {},
   "outputs": [],
   "source": [
    "def rmse(y, y_pred):\n",
    "    error = y_pred - y\n",
    "    mse = (error ** 2).mean()\n",
    "    return np.sqrt(mse)"
   ]
  },
  {
   "cell_type": "code",
   "execution_count": 13,
   "id": "cc4fe956-a86a-4553-979c-bb5c543a731c",
   "metadata": {},
   "outputs": [
    {
     "name": "stdout",
     "output_type": "stream",
     "text": [
      "RMSE of validation data: 0.460\n"
     ]
    }
   ],
   "source": [
    "_rmse = rmse(y_val, y_pred)\n",
    "print(f\"RMSE of validation data: {_rmse:.3f}\")"
   ]
  },
  {
   "cell_type": "markdown",
   "id": "3ebb15a3-b45c-4f00-a2ce-211cb9a1893e",
   "metadata": {},
   "source": [
    "## Question 3"
   ]
  },
  {
   "cell_type": "code",
   "execution_count": 14,
   "id": "b22baa25-353f-4a81-a1a0-35931ccbeeb8",
   "metadata": {},
   "outputs": [],
   "source": [
    "parameters, n_estimators_results = [], []\n",
    "for parameter in range(10, 201, 10):\n",
    "    rf = RandomForestRegressor(n_estimators=parameter, random_state=1)\n",
    "    rf.fit(X_train, y_train)\n",
    "    y_pred = rf.predict(X_val)\n",
    "    _rmse = rmse(y_val, y_pred)\n",
    "    parameters.append(parameter)\n",
    "    n_estimators_results.append(_rmse)"
   ]
  },
  {
   "cell_type": "code",
   "execution_count": 15,
   "id": "a64a5647-6add-49de-b760-1fa90608c082",
   "metadata": {},
   "outputs": [
    {
     "data": {
      "image/png": "[encoded data removed]",
      "text/plain": [
       "<Figure size 500x500 with 1 Axes>"
      ]
     },
     "metadata": {},
     "output_type": "display_data"
    }
   ],
   "source": [
    "rf_df = pd.DataFrame({'n_estimators':parameters, 'RMSE': n_estimators_results})\n",
    "\n",
    "sns.relplot(rf_df, kind=\"line\",x=\"n_estimators\", y=\"RMSE\")\n",
    "plt.title('RMSE vs Number of Estimators')\n",
    "plt.tight_layout()"
   ]
  },
  {
   "cell_type": "code",
   "execution_count": 16,
   "id": "11ebe4e4-df6f-4799-b813-03afea5e4b12",
   "metadata": {},
   "outputs": [],
   "source": [
    "# After n_estimators=70, RMSE stops improving - overall small improvements thereafter"
   ]
  },
  {
   "cell_type": "markdown",
   "id": "32ceae27-ef49-4668-a1fa-7ca66d3f4de4",
   "metadata": {},
   "source": [
    "## Question 4"
   ]
  },
  {
   "cell_type": "code",
   "execution_count": 17,
   "id": "4d4afba4-4e2e-41ba-a607-f957651ea973",
   "metadata": {},
   "outputs": [],
   "source": [
    "depth_results = {}\n",
    "\n",
    "for depth in [10, 15, 20, 25]:\n",
    "    n_estimators_results = []\n",
    "    for parameter in range(10, 201, 10):\n",
    "        rf = RandomForestRegressor(n_estimators=parameter, random_state=1, max_depth=depth)\n",
    "        rf.fit(X_train, y_train)\n",
    "        y_pred = rf.predict(X_val)\n",
    "        _rmse = rmse(y_val, y_pred)\n",
    "        parameters.append(parameter)\n",
    "        n_estimators_results.append(_rmse)\n",
    "    depth_results[f\"Depth: {depth}\"] = n_estimators_results"
   ]
  },
  {
   "cell_type": "code",
   "execution_count": 18,
   "id": "cd35fd8c-6f7c-445d-9022-b70897ab489b",
   "metadata": {},
   "outputs": [
    {
     "data": {
      "image/png": "[encoded data removed]",
      "text/plain": [
       "<Figure size 719x500 with 1 Axes>"
      ]
     },
     "metadata": {},
     "output_type": "display_data"
    }
   ],
   "source": [
    "parameters = list(range(10, 201, 10))\n",
    "\n",
    "# Convert your nested dictionary to a DataFrame\n",
    "plot_data = []\n",
    "for depth_key, rmse_values in depth_results.items():\n",
    "    for param, rmse_val in zip(parameters, rmse_values):\n",
    "        plot_data.append({\n",
    "            'n_estimators': param,\n",
    "            'RMSE': rmse_val,\n",
    "            'Depth': depth_key  \n",
    "        })\n",
    "\n",
    "df_plot = pd.DataFrame(plot_data)\n",
    "\n",
    "# Create the line plot\n",
    "sns.relplot(data=df_plot, x='n_estimators', y='RMSE', hue='Depth', kind='line', markers=True, aspect=1.2)\n",
    "\n",
    "plt.title('RMSE vs Number of Estimators by Max Depth')\n",
    "plt.tight_layout()"
   ]
  },
  {
   "cell_type": "code",
   "execution_count": 19,
   "id": "9be37ac4-7007-433a-8bf3-53594ff3a8cd",
   "metadata": {},
   "outputs": [],
   "source": [
    "# Read off the chart that the best max depth is 10, since it produces the lowest RMSE"
   ]
  },
  {
   "cell_type": "markdown",
   "id": "8572623e-94a4-4820-9cea-13e4ba247d01",
   "metadata": {},
   "source": [
    "## Question 5"
   ]
  },
  {
   "cell_type": "code",
   "execution_count": 20,
   "id": "77a335c7-6754-4bd4-ad0d-fba892490556",
   "metadata": {},
   "outputs": [],
   "source": [
    "rf = RandomForestRegressor(n_estimators=10, random_state=1, max_depth=20)\n",
    "rf.fit(X_train, y_train)\n",
    "feature_importances = dict( zip(dv.feature_names_, rf.feature_importances_) )\n",
    "\n",
    "feature_importances = dict(sorted(feature_importances.items(), key=lambda item: item[1], reverse=True))"
   ]
  },
  {
   "cell_type": "code",
   "execution_count": 21,
   "id": "87859bae-97b1-45f1-ada0-088a44a3f99d",
   "metadata": {},
   "outputs": [
    {
     "data": {
      "text/plain": [
       "{'vehicle_weight': np.float64(0.9591620125325987),\n",
       " 'horsepower': np.float64(0.016040214819390403),\n",
       " 'acceleration': np.float64(0.011470716492980844),\n",
       " 'engine_displacement': np.float64(0.003269323417164303),\n",
       " 'model_year': np.float64(0.0031822984145892436),\n",
       " 'num_cylinders': np.float64(0.0023586709360923362),\n",
       " 'num_doors': np.float64(0.001591133064507162),\n",
       " 'origin=USA': np.float64(0.0005551519590830011),\n",
       " 'origin=Europe': np.float64(0.0005203580827405653),\n",
       " 'origin=Asia': np.float64(0.00047610304607445227),\n",
       " 'drivetrain=All-wheel drive': np.float64(0.0003818097503064222),\n",
       " 'fuel_type=Diesel': np.float64(0.00034369341131184716),\n",
       " 'fuel_type=Gasoline': np.float64(0.00033667198836755764),\n",
       " 'drivetrain=Front-wheel drive': np.float64(0.0003118420847931986)}"
      ]
     },
     "execution_count": 21,
     "metadata": {},
     "output_type": "execute_result"
    }
   ],
   "source": [
    "feature_importances"
   ]
  },
  {
   "cell_type": "code",
   "execution_count": 22,
   "id": "6cbb6f65-9860-4bb7-94ac-8a731bc22d88",
   "metadata": {},
   "outputs": [],
   "source": [
    "# vehicle_weight is the most important feature"
   ]
  },
  {
   "cell_type": "markdown",
   "id": "166ac620-10a4-47e2-bfe4-f0781f098a7f",
   "metadata": {},
   "source": [
    "## Question 6"
   ]
  },
  {
   "cell_type": "code",
   "execution_count": 23,
   "id": "0e05b131-8b35-4f86-ad74-27a7df38fd0f",
   "metadata": {},
   "outputs": [],
   "source": [
    "# data needs to be in a DMatrix\n",
    "dtrain = xgb.DMatrix(X_train, label=y_train, feature_names=dv.feature_names_)\n",
    "dval = xgb.DMatrix(X_val, label=y_val, feature_names=dv.feature_names_)"
   ]
  },
  {
   "cell_type": "code",
   "execution_count": 24,
   "id": "d2118b75-a590-4321-b5de-265bcdf40656",
   "metadata": {},
   "outputs": [],
   "source": [
    "# Watchlist\n",
    "watchlist = [(dtrain, 'train'), (dval, 'val')]"
   ]
  },
  {
   "cell_type": "code",
   "execution_count": 25,
   "id": "0b4aa030-0e1c-4d5e-9fa6-f0ddf4b556d2",
   "metadata": {},
   "outputs": [],
   "source": [
    "xgb_params = {\n",
    "    'eta': 0.3, #\n",
    "    'max_depth': 6, #\n",
    "    'min_child_weight': 1, #\n",
    "    'objective': 'reg:squarederror',\n",
    "    'nthread': 8,\n",
    "    'seed': 1,\n",
    "    'verbosity': 1\n",
    "}"
   ]
  },
  {
   "cell_type": "code",
   "execution_count": 26,
   "id": "555806e5-6d8c-4e0f-8847-580fb8c334c6",
   "metadata": {},
   "outputs": [
    {
     "name": "stdout",
     "output_type": "stream",
     "text": [
      "[0]\ttrain-rmse:1.81393\tval-rmse:1.85444\n",
      "[10]\ttrain-rmse:0.37115\tval-rmse:0.43896\n",
      "[20]\ttrain-rmse:0.33553\tval-rmse:0.43376\n",
      "[30]\ttrain-rmse:0.31475\tval-rmse:0.43752\n",
      "[40]\ttrain-rmse:0.30202\tval-rmse:0.43968\n",
      "[50]\ttrain-rmse:0.28456\tval-rmse:0.44140\n",
      "[60]\ttrain-rmse:0.26768\tval-rmse:0.44290\n",
      "[70]\ttrain-rmse:0.25489\tval-rmse:0.44531\n",
      "[80]\ttrain-rmse:0.24254\tval-rmse:0.44689\n",
      "[90]\ttrain-rmse:0.23193\tval-rmse:0.44839\n",
      "[99]\ttrain-rmse:0.21950\tval-rmse:0.45018\n"
     ]
    }
   ],
   "source": [
    "model = xgb.train(xgb_params, dtrain, num_boost_round=100, evals=watchlist, verbose_eval=10)"
   ]
  },
  {
   "cell_type": "code",
   "execution_count": 27,
   "id": "d507cb88-bb72-4d50-b050-df961fa4e657",
   "metadata": {},
   "outputs": [],
   "source": [
    "xgb_params = {\n",
    "    'eta': 0.1, #\n",
    "    'max_depth': 6, #\n",
    "    'min_child_weight': 1, #\n",
    "    'objective': 'reg:squarederror',\n",
    "    'nthread': 8,\n",
    "    'seed': 1,\n",
    "    'verbosity': 1\n",
    "}"
   ]
  },
  {
   "cell_type": "code",
   "execution_count": 28,
   "id": "b708b4d2-c169-452f-a37f-0eaa2f426cc4",
   "metadata": {},
   "outputs": [
    {
     "name": "stdout",
     "output_type": "stream",
     "text": [
      "[0]\ttrain-rmse:2.28944\tval-rmse:2.34561\n",
      "[10]\ttrain-rmse:0.91008\tval-rmse:0.94062\n",
      "[20]\ttrain-rmse:0.48983\tval-rmse:0.53064\n",
      "[30]\ttrain-rmse:0.38342\tval-rmse:0.44289\n",
      "[40]\ttrain-rmse:0.35343\tval-rmse:0.42746\n",
      "[50]\ttrain-rmse:0.33998\tval-rmse:0.42498\n",
      "[60]\ttrain-rmse:0.33054\tval-rmse:0.42456\n",
      "[70]\ttrain-rmse:0.32202\tval-rmse:0.42503\n",
      "[80]\ttrain-rmse:0.31667\tval-rmse:0.42563\n",
      "[90]\ttrain-rmse:0.31059\tval-rmse:0.42586\n",
      "[99]\ttrain-rmse:0.30419\tval-rmse:0.42623\n"
     ]
    }
   ],
   "source": [
    "model = xgb.train(xgb_params, dtrain, num_boost_round=100, evals=watchlist, verbose_eval=10)"
   ]
  },
  {
   "cell_type": "code",
   "execution_count": 29,
   "id": "305eb91a-cd0e-4ba3-ad66-5a0daa3a7494",
   "metadata": {},
   "outputs": [],
   "source": [
    "# Smaller eta/learning rate (0.1) gives a better (i.e. lower) RMSE"
   ]
  },
  {
   "cell_type": "code",
   "execution_count": null,
   "id": "55787705-f3c2-4a9e-98f7-c29d70e6842c",
   "metadata": {},
   "outputs": [],
   "source": []
  }
 ],
 "metadata": {
  "kernelspec": {
   "display_name": "Python 3 (ipykernel)",
   "language": "python",
   "name": "python3"
  },
  "language_info": {
   "codemirror_mode": {
    "name": "ipython",
    "version": 3
   },
   "file_extension": ".py",
   "mimetype": "text/x-python",
   "name": "python",
   "nbconvert_exporter": "python",
   "pygments_lexer": "ipython3",
   "version": "3.14.0"
  }
 },
 "nbformat": 4,
 "nbformat_minor": 5
}
